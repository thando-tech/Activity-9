{
 "cells": [
  {
   "cell_type": "code",
   "execution_count": 5,
   "id": "58a2f744-ccae-4ba9-aad3-c9959036cd12",
   "metadata": {},
   "outputs": [
    {
     "name": "stdout",
     "output_type": "stream",
     "text": [
      "Bubble Sort Result: [3, 7, 10, 11, 13, 26, 43]\n"
     ]
    }
   ],
   "source": [
    "def bubble_sort(arr):\n",
    "    n = len(arr)\n",
    "    for i in range(n-1):\n",
    "        for j in range(n-i-1):\n",
    "            if arr[j] > arr[j+1]:\n",
    "                arr[j], arr[j+1] = arr[j+1], arr[j]\n",
    "    return arr\n",
    "\n",
    "\n",
    "elements = [10, 7, 26, 43, 3, 13, 11]\n",
    "sorted_elements = bubble_sort(elements.copy())\n",
    "print(\"Bubble Sort Result:\", sorted_elements)\n"
   ]
  },
  {
   "cell_type": "code",
   "execution_count": 6,
   "id": "7aed1adf-a7cc-47fa-a283-343fa399e35e",
   "metadata": {},
   "outputs": [
    {
     "name": "stdout",
     "output_type": "stream",
     "text": [
      "Sorted elements using Insertion Sort: [3, 7, 10, 11, 13, 26, 43]\n"
     ]
    }
   ],
   "source": [
    "def insertion_sort(arr):\n",
    "    for i in range(1, len(arr)):  \n",
    "        key = arr[i]  \n",
    "        j = i - 1 \n",
    "        \n",
    "        while j >= 0 and key < arr[j]:\n",
    "            arr[j + 1] = arr[j]\n",
    "            j -= 1\n",
    "        arr[j + 1] = key \n",
    "    return arr\n",
    "\n",
    "\n",
    "elements = [10, 7, 26, 43, 3, 13, 11]\n",
    "sorted_elements = insertion_sort(elements)\n",
    "print(\"Sorted elements using Insertion Sort:\", sorted_elements)\n"
   ]
  },
  {
   "cell_type": "code",
   "execution_count": 7,
   "id": "b098ee02-3488-46eb-95f9-d535ccd4e524",
   "metadata": {},
   "outputs": [
    {
     "name": "stdout",
     "output_type": "stream",
     "text": [
      "Iteration 1 : [26, 10, 13, 7, 3, 11, 43]\n",
      "Iteration 2 : [13, 10, 11, 7, 3, 26, 43]\n",
      "Iteration 3 : [11, 10, 3, 7, 13, 26, 43]\n",
      "Iteration 4 : [10, 7, 3, 11, 13, 26, 43]\n",
      "Iteration 5 : [7, 3, 10, 11, 13, 26, 43]\n",
      "Iteration 6 : [3, 7, 10, 11, 13, 26, 43]\n"
     ]
    }
   ],
   "source": [
    "def heapify(arr, n, i):\n",
    "    largest = i\n",
    "    l = 2 * i + 1\n",
    "    r = 2 * i + 2\n",
    "\n",
    "    if l < n and arr[l] > arr[largest]:\n",
    "        largest = l\n",
    "\n",
    "    if r < n and arr[r] > arr[largest]:\n",
    "        largest = r\n",
    "\n",
    "    if largest != i:\n",
    "        arr[i], arr[largest] = arr[largest], arr[i]\n",
    "        heapify(arr, n, largest)\n",
    "\n",
    "def heap_sort(arr):\n",
    "    n = len(arr)\n",
    "\n",
    "    # Build a max heap.\n",
    "    for i in range(n//2 - 1, -1, -1):\n",
    "        heapify(arr, n, i)\n",
    "\n",
    "    # Extract elements one by one.\n",
    "    for i in range(n-1, 0, -1):\n",
    "        arr[0], arr[i] = arr[i], arr[0]\n",
    "        heapify(arr, i, 0)\n",
    "        print(\"Iteration\", n-i, \":\", arr)\n",
    "\n",
    "# Usage\n",
    "elements = [10, 7, 26, 43, 3, 13, 11]\n",
    "heap_sort(elements.copy())\n"
   ]
  },
  {
   "cell_type": "code",
   "execution_count": 9,
   "id": "1fc6386e-1615-4927-924b-40291899367d",
   "metadata": {},
   "outputs": [
    {
     "name": "stdout",
     "output_type": "stream",
     "text": [
      "Element 3 found at index 0.\n"
     ]
    }
   ],
   "source": [
    "def binary_search(arr, target):\n",
    "    low = 0\n",
    "    high = len(arr) - 1\n",
    "    while low <= high:\n",
    "        mid = (low + high) // 2\n",
    "        if arr[mid] == target:\n",
    "            return mid\n",
    "        elif arr[mid] < target:\n",
    "            low = mid + 1\n",
    "        else:\n",
    "            high = mid - 1\n",
    "    return -1\n",
    "\n",
    "# Usage\n",
    "sorted_elements = [3, 7, 10, 11, 13, 26, 43]\n",
    "target = 3\n",
    "index = binary_search(sorted_elements, target)\n",
    "if index != -1:\n",
    "    print(f\"Element {target} found at index {index}.\")\n",
    "else:\n",
    "    print(f\"Element {target} not found.\")\n"
   ]
  },
  {
   "cell_type": "code",
   "execution_count": 10,
   "id": "bf55a969-02a1-494b-9de6-86c0a376a60a",
   "metadata": {},
   "outputs": [],
   "source": [
    "#LINEAR SEARCH EXPLANATION\n",
    "\n",
    "#1. Start from the first element of the list.\n",
    "#2. Compare each element with the target value.\n",
    "#3. If the element matches the target, return its index.\n",
    "#4. If the end of the list is reached without finding the target, return -1."
   ]
  },
  {
   "cell_type": "code",
   "execution_count": null,
   "id": "d1de7c3e-a012-4e8a-a7e2-4d01766b8ec1",
   "metadata": {},
   "outputs": [],
   "source": []
  }
 ],
 "metadata": {
  "kernelspec": {
   "display_name": "Python 3 (ipykernel)",
   "language": "python",
   "name": "python3"
  },
  "language_info": {
   "codemirror_mode": {
    "name": "ipython",
    "version": 3
   },
   "file_extension": ".py",
   "mimetype": "text/x-python",
   "name": "python",
   "nbconvert_exporter": "python",
   "pygments_lexer": "ipython3",
   "version": "3.11.7"
  }
 },
 "nbformat": 4,
 "nbformat_minor": 5
}
